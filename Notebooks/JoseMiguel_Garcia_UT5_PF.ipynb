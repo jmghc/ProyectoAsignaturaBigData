{
 "cells": [
  {
   "cell_type": "markdown",
   "id": "df937b76",
   "metadata": {},
   "source": [
    "# Estudiantes - PySpark"
   ]
  },
  {
   "cell_type": "markdown",
   "id": "b83d7988",
   "metadata": {},
   "source": [
    " ## 1. Carga e inspección del dataset"
   ]
  },
  {
   "cell_type": "markdown",
   "id": "95c8bf2b",
   "metadata": {},
   "source": [
    "Objetivo\n",
    "El objetivo principal de este trabajo es analizar el impacto de diversos factores personales, académicos y conductuales en los niveles de depresión de los estudiantes, utilizando PySpark como herramienta de procesamiento y análisis de datos.\n",
    "Los objetivos específicos incluyen:\n",
    "Identificar correlaciones entre el rendimiento académico y los niveles de depresión.\n",
    "\n",
    "\n",
    "Evaluar cómo hábitos como el sueño, el ejercicio o las relaciones sociales influyen en el estado emocional de los estudiantes.\n",
    "\n",
    "\n",
    "Promover el uso responsable de datos sensibles, priorizando la ética en el análisis.\n"
   ]
  },
  {
   "cell_type": "markdown",
   "id": "15ff61cf",
   "metadata": {},
   "source": [
    "Columnas\t\n",
    "Está formado por varias columnas:\n",
    "- id: ID Identificación de cada estudiante\n",
    "- Gender: Género de cada estudiantes (Hombre,Mujer)\n",
    "- Age: Edad de cada estudiantes\n",
    "- City: Ciudad de cada estudiante\n",
    "- Profession: Profesión de cada estudiante(solo estudiante)\n",
    "- Academic Pressure: Presión académica que es la medida que se tiene en cuenta si\n",
    "un estudiante sufre mucha presión en sus estudios.\n",
    "- Work Pressure: Presión laboral.\n",
    "- CGPA: Promedio General de Calificaciones (CGPA, por sus siglas en inglés)\n",
    "- Study Satisfaction: Satisfacción con el estudio\n",
    "- Job Satisfaction: Satisfacción laboral\n",
    "- Sleep Duration: Duración del sueño medio de cada estudiante\n",
    "- Dietary Habits: Hábitos alimenticios de cada estudiante\n",
    "- Degree: Título (o Grado académico)\n",
    "- Have you ever had suicidal thoughts?: ¿Alguna vez has tenido pensamientos\n",
    "suicidas?\n",
    "- Work/Study Hours: Horas de trabajo/estudio de media de cada estudiante\n",
    "- Financial Stress: Estrés financiero de cada estudiante\n",
    "- Family History of Mental Illness: Antecedentes familiares de enfermedades\n",
    "mentales\n",
    "- Depression: Depresión si la sufre actualmente o no.\n"
   ]
  },
  {
   "cell_type": "code",
   "execution_count": 4,
   "id": "0363a605",
   "metadata": {},
   "outputs": [
    {
     "data": {
      "application/vnd.jupyter.widget-view+json": {
       "model_id": "",
       "version_major": 2,
       "version_minor": 0
      },
      "text/plain": [
       "FloatProgress(value=0.0, bar_style='info', description='Progress:', layout=Layout(height='25px', width='50%'),…"
      ]
     },
     "metadata": {},
     "output_type": "display_data"
    },
    {
     "name": "stdout",
     "output_type": "stream",
     "text": [
      "root\n",
      " |-- id: integer (nullable = true)\n",
      " |-- Gender: string (nullable = true)\n",
      " |-- Age: double (nullable = true)\n",
      " |-- City: string (nullable = true)\n",
      " |-- Profession: string (nullable = true)\n",
      " |-- Academic Pressure: double (nullable = true)\n",
      " |-- Work Pressure: double (nullable = true)\n",
      " |-- CGPA: double (nullable = true)\n",
      " |-- Study Satisfaction: double (nullable = true)\n",
      " |-- Job Satisfaction: double (nullable = true)\n",
      " |-- Sleep Duration: string (nullable = true)\n",
      " |-- Dietary Habits: string (nullable = true)\n",
      " |-- Degree: string (nullable = true)\n",
      " |-- Have you ever had suicidal thoughts ?: string (nullable = true)\n",
      " |-- Work/Study Hours: double (nullable = true)\n",
      " |-- Financial Stress: double (nullable = true)\n",
      " |-- Family History of Mental Illness: string (nullable = true)\n",
      " |-- Depression: integer (nullable = true)\n",
      "\n",
      "+---+------+----+-------------+----------+-----------------+-------------+----+------------------+----------------+-----------------+--------------+-------+-------------------------------------+----------------+----------------+--------------------------------+----------+\n",
      "|id |Gender|Age |City         |Profession|Academic Pressure|Work Pressure|CGPA|Study Satisfaction|Job Satisfaction|Sleep Duration   |Dietary Habits|Degree |Have you ever had suicidal thoughts ?|Work/Study Hours|Financial Stress|Family History of Mental Illness|Depression|\n",
      "+---+------+----+-------------+----------+-----------------+-------------+----+------------------+----------------+-----------------+--------------+-------+-------------------------------------+----------------+----------------+--------------------------------+----------+\n",
      "|2  |Male  |33.0|Visakhapatnam|Student   |5.0              |0.0          |NULL|2.0               |0.0             |5-6 hours        |Healthy       |B.Pharm|Yes                                  |3.0             |1.0             |No                              |1         |\n",
      "|8  |Female|24.0|Bangalore    |Student   |2.0              |0.0          |5.9 |5.0               |0.0             |5-6 hours        |Moderate      |BSc    |No                                   |3.0             |2.0             |Yes                             |0         |\n",
      "|26 |Male  |31.0|Srinagar     |Student   |3.0              |0.0          |7.03|5.0               |0.0             |Less than 5 hours|Healthy       |BA     |No                                   |9.0             |1.0             |Yes                             |0         |\n",
      "|30 |Female|28.0|Varanasi     |Student   |3.0              |0.0          |NULL|2.0               |0.0             |7-8 hours        |Moderate      |BCA    |Yes                                  |4.0             |5.0             |Yes                             |1         |\n",
      "|32 |Female|25.0|Jaipur       |Student   |4.0              |0.0          |8.13|3.0               |0.0             |5-6 hours        |Moderate      |M.Tech |Yes                                  |1.0             |1.0             |No                              |0         |\n",
      "+---+------+----+-------------+----------+-----------------+-------------+----+------------------+----------------+-----------------+--------------+-------+-------------------------------------+----------------+----------------+--------------------------------+----------+\n",
      "only showing top 5 rows\n",
      "\n",
      "N?mero total de registros: 27901"
     ]
    }
   ],
   "source": [
    "from pyspark.sql import SparkSession\n",
    "\n",
    "spark = SparkSession.builder.appName(\"estudiantes\").getOrCreate()\n",
    "\n",
    "# Cargar el CSV\n",
    "df = spark.read.option(\"header\", \"true\").option(\"inferSchema\", \"true\").csv(\"s3://jmgarcia-spark/datasets/StudentDepressionDataset_sucio.csv\")\n",
    "\n",
    "# Mostrar esquema\n",
    "df.printSchema()\n",
    "\n",
    "# Mostrar primeros registros\n",
    "df.show(5, truncate=False)\n",
    "\n",
    "# Contar registros\n",
    "print(\"Número total de registros:\", df.count())\n"
   ]
  },
  {
   "cell_type": "markdown",
   "id": "aeca4178",
   "metadata": {},
   "source": [
    "## 2. Análisis de calidad de datos"
   ]
  },
  {
   "cell_type": "code",
   "execution_count": 7,
   "id": "d6e3591e",
   "metadata": {},
   "outputs": [
    {
     "data": {
      "application/vnd.jupyter.widget-view+json": {
       "model_id": "",
       "version_major": 2,
       "version_minor": 0
      },
      "text/plain": [
       "FloatProgress(value=0.0, bar_style='info', description='Progress:', layout=Layout(height='25px', width='50%'),…"
      ]
     },
     "metadata": {},
     "output_type": "display_data"
    },
    {
     "name": "stdout",
     "output_type": "stream",
     "text": [
      "+-------------------------------------+-----+\n",
      "|columna                              |nulos|\n",
      "+-------------------------------------+-----+\n",
      "|id                                   |0    |\n",
      "|Gender                               |0    |\n",
      "|Age                                  |9    |\n",
      "|City                                 |0    |\n",
      "|Profession                           |0    |\n",
      "|Academic Pressure                    |0    |\n",
      "|Work Pressure                        |0    |\n",
      "|CGPA                                 |13   |\n",
      "|Study Satisfaction                   |0    |\n",
      "|Job Satisfaction                     |0    |\n",
      "|Sleep Duration                       |0    |\n",
      "|Dietary Habits                       |0    |\n",
      "|Degree                               |0    |\n",
      "|Have you ever had suicidal thoughts ?|0    |\n",
      "|Work/Study Hours                     |0    |\n",
      "|Financial Stress                     |3    |\n",
      "|Family History of Mental Illness     |0    |\n",
      "|Depression                           |0    |\n",
      "+-------------------------------------+-----+"
     ]
    }
   ],
   "source": [
    "from pyspark.sql.functions import col, when, count, sum as sum_\n",
    "# Lista para guardar los resultados\n",
    "nulos = []\n",
    "\n",
    "# Recorre cada columna y cuenta los nulos\n",
    "for colums_name in df.columns:\n",
    "    nulo_count = df.select(count(when(col(colums_name).isNull(), colums_name)).alias(\"nulos\")).collect()[0][\"nulos\"]\n",
    "    nulos.append((colums_name, nulo_count))\n",
    "\n",
    "# Creamos un nuevo DataFrame con los resultados de los nulos por cada columna\n",
    "df_denulos = spark.createDataFrame(nulos, [\"columna\", \"nulos\"])\n",
    "df_denulos.show(truncate=False)\n"
   ]
  },
  {
   "cell_type": "markdown",
   "id": "9f64ca3d",
   "metadata": {},
   "source": [
    "## 3.Limpieza de datos"
   ]
  },
  {
   "cell_type": "code",
   "execution_count": 8,
   "id": "466992ba",
   "metadata": {},
   "outputs": [
    {
     "data": {
      "application/vnd.jupyter.widget-view+json": {
       "model_id": "",
       "version_major": 2,
       "version_minor": 0
      },
      "text/plain": [
       "FloatProgress(value=0.0, bar_style='info', description='Progress:', layout=Layout(height='25px', width='50%'),…"
      ]
     },
     "metadata": {},
     "output_type": "display_data"
    },
    {
     "name": "stdout",
     "output_type": "stream",
     "text": [
      "Registros limpios:  27901\n",
      "Registros eliminados:  0"
     ]
    }
   ],
   "source": [
    "# Rellenar valores nulos\n",
    "from pyspark.sql.functions import percentile_approx\n",
    "mediana_age = df.select(percentile_approx(\"Age\", 0.5)).first()[0]\n",
    "mediana_cgpa = df.select(percentile_approx(\"CGPA\", 0.5)).first()[0]\n",
    "# Rellenar valores\n",
    "df_sin_nulos = df.fillna({\n",
    "    \"Age\": mediana_age,\n",
    "    \"CGPA\": mediana_cgpa,\n",
    "})\n",
    "print(\"Registros limpios: \",df_sin_nulos.count())\n",
    "print(\"Registros eliminados: \",df.count() - df_sin_nulos.count())"
   ]
  },
  {
   "cell_type": "code",
   "execution_count": 9,
   "id": "cc710975",
   "metadata": {},
   "outputs": [
    {
     "data": {
      "application/vnd.jupyter.widget-view+json": {
       "model_id": "",
       "version_major": 2,
       "version_minor": 0
      },
      "text/plain": [
       "FloatProgress(value=0.0, bar_style='info', description='Progress:', layout=Layout(height='25px', width='50%'),…"
      ]
     },
     "metadata": {},
     "output_type": "display_data"
    }
   ],
   "source": [
    "#Eliminar los nulos restantes que son 3 de la columna Financial Stress\n",
    "df_sin_nulos = df_sin_nulos.na.drop(subset=[\"Financial Stress\"])"
   ]
  },
  {
   "cell_type": "code",
   "execution_count": 10,
   "id": "5529b9ef",
   "metadata": {},
   "outputs": [
    {
     "data": {
      "application/vnd.jupyter.widget-view+json": {
       "model_id": "",
       "version_major": 2,
       "version_minor": 0
      },
      "text/plain": [
       "FloatProgress(value=0.0, bar_style='info', description='Progress:', layout=Layout(height='25px', width='50%'),…"
      ]
     },
     "metadata": {},
     "output_type": "display_data"
    },
    {
     "name": "stdout",
     "output_type": "stream",
     "text": [
      "Registros limpios:  27898\n",
      "Registros eliminados:  3"
     ]
    }
   ],
   "source": [
    "print(\"Registros limpios: \",df_sin_nulos.count())\n",
    "print(\"Registros eliminados: \",df.count() - df_sin_nulos.count())"
   ]
  },
  {
   "cell_type": "code",
   "execution_count": 11,
   "id": "1a153b10",
   "metadata": {},
   "outputs": [
    {
     "data": {
      "application/vnd.jupyter.widget-view+json": {
       "model_id": "",
       "version_major": 2,
       "version_minor": 0
      },
      "text/plain": [
       "FloatProgress(value=0.0, bar_style='info', description='Progress:', layout=Layout(height='25px', width='50%'),…"
      ]
     },
     "metadata": {},
     "output_type": "display_data"
    },
    {
     "name": "stdout",
     "output_type": "stream",
     "text": [
      "+---+------+----+-------------+----------+-----------------+-------------+----+------------------+----------------+-----------------+--------------+-------+-------------------------------------+----------------+----------------+--------------------------------+----------+\n",
      "| id|Gender| Age|         City|Profession|Academic Pressure|Work Pressure|CGPA|Study Satisfaction|Job Satisfaction|   Sleep Duration|Dietary Habits| Degree|Have you ever had suicidal thoughts ?|Work/Study Hours|Financial Stress|Family History of Mental Illness|Depression|\n",
      "+---+------+----+-------------+----------+-----------------+-------------+----+------------------+----------------+-----------------+--------------+-------+-------------------------------------+----------------+----------------+--------------------------------+----------+\n",
      "|  2|  Male|33.0|visakhapatnam|   Student|              5.0|          0.0|7.77|               2.0|             0.0|        5-6 hours|       Healthy|b.pharm|                                  Yes|             3.0|             1.0|                              No|         1|\n",
      "|  8|Female|24.0|    bangalore|   Student|              2.0|          0.0| 5.9|               5.0|             0.0|        5-6 hours|      Moderate|    bsc|                                   No|             3.0|             2.0|                             Yes|         0|\n",
      "| 26|  Male|31.0|     srinagar|   Student|              3.0|          0.0|7.03|               5.0|             0.0|less than 5 hours|       Healthy|     ba|                                   No|             9.0|             1.0|                             Yes|         0|\n",
      "| 30|Female|28.0|     varanasi|   Student|              3.0|          0.0|7.77|               2.0|             0.0|        7-8 hours|      Moderate|    bca|                                  Yes|             4.0|             5.0|                             Yes|         1|\n",
      "| 32|Female|25.0|       jaipur|   Student|              4.0|          0.0|8.13|               3.0|             0.0|        5-6 hours|      Moderate| m.tech|                                  Yes|             1.0|             1.0|                              No|         0|\n",
      "+---+------+----+-------------+----------+-----------------+-------------+----+------------------+----------------+-----------------+--------------+-------+-------------------------------------+----------------+----------------+--------------------------------+----------+"
     ]
    }
   ],
   "source": [
    "# De algunas columnas categóricas eliminar espacios en blanco y pasar todo a minúsculas\n",
    "from pyspark.sql.functions import year, trim, lower, when\n",
    "df_sin_nulos = df_sin_nulos.withColumn(\"City\", lower(trim(col(\"City\")))).withColumn(\"Sleep Duration\", lower(trim(col(\"Sleep Duration\")))).withColumn(\"Degree\", lower(trim(col(\"Degree\"))))\n",
    "df_sin_nulos.limit(5).show()"
   ]
  },
  {
   "cell_type": "markdown",
   "id": "8a612888",
   "metadata": {},
   "source": [
    "## 4. Transformaciones"
   ]
  },
  {
   "cell_type": "code",
   "execution_count": 12,
   "id": "bab1ea18",
   "metadata": {},
   "outputs": [
    {
     "data": {
      "application/vnd.jupyter.widget-view+json": {
       "model_id": "",
       "version_major": 2,
       "version_minor": 0
      },
      "text/plain": [
       "FloatProgress(value=0.0, bar_style='info', description='Progress:', layout=Layout(height='25px', width='50%'),…"
      ]
     },
     "metadata": {},
     "output_type": "display_data"
    },
    {
     "name": "stdout",
     "output_type": "stream",
     "text": [
      "+---+------+--------+\n",
      "| id|Gender|HighRisk|\n",
      "+---+------+--------+\n",
      "|  2|  Male|       0|\n",
      "|  8|Female|       0|\n",
      "| 26|  Male|       0|\n",
      "| 30|Female|       0|\n",
      "| 32|Female|       0|\n",
      "+---+------+--------+"
     ]
    }
   ],
   "source": [
    "#Crea una nueva columnas con ceros y unos si el estudiante tiene un alto riesgo de tener algún problema mental que afecte al rendimiento académico\n",
    "df_estudiantes = df_sin_nulos.withColumn(\"HighRisk\",\n",
    "    when((col(\"Academic Pressure\") >= 4) &\n",
    "         (col(\"Sleep Duration\") == \"less than 5 hours\") &\n",
    "         (col(\"Financial Stress\") >= 4.0) &\n",
    "         (col(\"Family History of Mental Illness\") == \"Yes\"), 1)\n",
    "    .otherwise(0)\n",
    ")\n",
    "df_estudiantes.select(\"id\",\"Gender\",\"HighRisk\").limit(5).show()\n"
   ]
  },
  {
   "cell_type": "code",
   "execution_count": 13,
   "id": "0031bf76",
   "metadata": {},
   "outputs": [
    {
     "data": {
      "application/vnd.jupyter.widget-view+json": {
       "model_id": "",
       "version_major": 2,
       "version_minor": 0
      },
      "text/plain": [
       "FloatProgress(value=0.0, bar_style='info', description='Progress:', layout=Layout(height='25px', width='50%'),…"
      ]
     },
     "metadata": {},
     "output_type": "display_data"
    },
    {
     "name": "stdout",
     "output_type": "stream",
     "text": [
      "+---+------+----------+\n",
      "| id|Gender|GoodHabits|\n",
      "+---+------+----------+\n",
      "|  2|  Male|         0|\n",
      "|  8|Female|         0|\n",
      "| 26|  Male|         0|\n",
      "| 30|Female|         1|\n",
      "| 32|Female|         0|\n",
      "+---+------+----------+"
     ]
    }
   ],
   "source": [
    "#Crea una nueva columnas para indicar si el estudiante tiene buenos hábitos o no\n",
    "df_estudiantes = df_estudiantes.withColumn(\"GoodHabits\",\n",
    "    when(\n",
    "        (col(\"Sleep Duration\") == \"7-8 hours\") &\n",
    "        (col(\"Dietary Habits\").isin(\"Healthy\", \"Moderate\")) &\n",
    "        (col(\"Work/Study Hours\") >= 3) & (col(\"Work/Study Hours\") <= 8),\n",
    "        1\n",
    "    ).otherwise(0)\n",
    ")\n",
    "df_estudiantes.select(\"id\",\"Gender\",\"GoodHabits\").limit(5).show()"
   ]
  },
  {
   "cell_type": "code",
   "execution_count": 14,
   "id": "bb19790c",
   "metadata": {},
   "outputs": [
    {
     "data": {
      "application/vnd.jupyter.widget-view+json": {
       "model_id": "",
       "version_major": 2,
       "version_minor": 0
      },
      "text/plain": [
       "FloatProgress(value=0.0, bar_style='info', description='Progress:', layout=Layout(height='25px', width='50%'),…"
      ]
     },
     "metadata": {},
     "output_type": "display_data"
    }
   ],
   "source": [
    "# Ayuda después para que no se tenga que filtar si es mayor que un número o no. Lo que quiero que ya indique si tiene estres financiero o no.\n",
    "df_estudiantes = df_estudiantes.withColumn(\"HasFinancialStress\", when(col(\"Financial Stress\") >= 3.0, 1).otherwise(0))\n",
    "df_estudiantes = df_estudiantes.withColumn(\"HasAcademicPressure\", when(col(\"Academic Pressure\") >= 3.0, 1).otherwise(0))\n",
    "df_estudiantes = df_estudiantes.withColumn(\"HasSatisfaction\", when(col(\"Study Satisfaction\") >= 3.0, 1).otherwise(0))\n",
    "\n",
    "# Cambiar los datos de si y no a binario (0 y 1)\n",
    "df_estudiantes = df_estudiantes.withColumn(\"HasSuicidalThoughts\", when(col(\"Have you ever had suicidal thoughts ?\") == \"Yes\", 1).otherwise(0))\n",
    "df_estudiantes = df_estudiantes.withColumn(\"HasFamilyHistory\", when(col(\"Family History of Mental Illness\") == \"Yes\", 1).otherwise(0))\n"
   ]
  },
  {
   "cell_type": "code",
   "execution_count": 15,
   "id": "f3d363ca",
   "metadata": {},
   "outputs": [
    {
     "data": {
      "application/vnd.jupyter.widget-view+json": {
       "model_id": "",
       "version_major": 2,
       "version_minor": 0
      },
      "text/plain": [
       "FloatProgress(value=0.0, bar_style='info', description='Progress:', layout=Layout(height='25px', width='50%'),…"
      ]
     },
     "metadata": {},
     "output_type": "display_data"
    },
    {
     "name": "stdout",
     "output_type": "stream",
     "text": [
      "+------------------+-------------------+---------------+-------------------+----------------+\n",
      "|HasFinancialStress|HasAcademicPressure|HasSatisfaction|HasSuicidalThoughts|HasFamilyHistory|\n",
      "+------------------+-------------------+---------------+-------------------+----------------+\n",
      "|                 0|                  1|              0|                  1|               0|\n",
      "|                 0|                  0|              1|                  0|               1|\n",
      "|                 0|                  1|              1|                  0|               1|\n",
      "|                 1|                  1|              0|                  1|               1|\n",
      "|                 0|                  1|              1|                  1|               0|\n",
      "+------------------+-------------------+---------------+-------------------+----------------+"
     ]
    }
   ],
   "source": [
    "df_estudiantes.select(\"HasFinancialStress\",\"HasAcademicPressure\",\"HasSatisfaction\",\"HasSuicidalThoughts\",\"HasFamilyHistory\").limit(5).show()"
   ]
  },
  {
   "cell_type": "code",
   "execution_count": 16,
   "id": "dd0a1d8b",
   "metadata": {},
   "outputs": [
    {
     "data": {
      "application/vnd.jupyter.widget-view+json": {
       "model_id": "",
       "version_major": 2,
       "version_minor": 0
      },
      "text/plain": [
       "FloatProgress(value=0.0, bar_style='info', description='Progress:', layout=Layout(height='25px', width='50%'),…"
      ]
     },
     "metadata": {},
     "output_type": "display_data"
    }
   ],
   "source": [
    "#Pasar a booleano tanto la edad como el género para ayudar al entrenamiento\n",
    "#Crea una nueva columna para indicar si el estudiantes es joven o no\n",
    "df_estudiantes = df_estudiantes.withColumn(\"IsYoung\", when((col(\"Age\") >= 18) & (col(\"Age\") <= 25), 1).otherwise(0))\n",
    "#Crea una nueva columna para indicar si el estudiantes es mujer u hombre\n",
    "df_estudiantes = df_estudiantes.withColumn(\"IsMale\", when((col(\"Gender\") == \"Male\"), 1).otherwise(0))"
   ]
  },
  {
   "cell_type": "code",
   "execution_count": 17,
   "id": "4e13a9bc",
   "metadata": {},
   "outputs": [
    {
     "data": {
      "application/vnd.jupyter.widget-view+json": {
       "model_id": "",
       "version_major": 2,
       "version_minor": 0
      },
      "text/plain": [
       "FloatProgress(value=0.0, bar_style='info', description='Progress:', layout=Layout(height='25px', width='50%'),…"
      ]
     },
     "metadata": {},
     "output_type": "display_data"
    },
    {
     "name": "stdout",
     "output_type": "stream",
     "text": [
      "+-------+------+\n",
      "|IsYoung|IsMale|\n",
      "+-------+------+\n",
      "|      0|     1|\n",
      "|      1|     0|\n",
      "|      0|     1|\n",
      "|      0|     0|\n",
      "|      1|     0|\n",
      "+-------+------+\n",
      "only showing top 5 rows"
     ]
    }
   ],
   "source": [
    "df_estudiantes.select(\"IsYoung\",\"IsMale\").show(5)"
   ]
  },
  {
   "cell_type": "code",
   "execution_count": 18,
   "id": "16e4bdde",
   "metadata": {},
   "outputs": [
    {
     "data": {
      "application/vnd.jupyter.widget-view+json": {
       "model_id": "",
       "version_major": 2,
       "version_minor": 0
      },
      "text/plain": [
       "FloatProgress(value=0.0, bar_style='info', description='Progress:', layout=Layout(height='25px', width='50%'),…"
      ]
     },
     "metadata": {},
     "output_type": "display_data"
    }
   ],
   "source": [
    "#Crea una nueva columna para indicar si el alumno tiene malos resultados o no\n",
    "df_estudiantes = df_estudiantes.withColumn(\"BadCGPA\", when(col(\"CGPA\") < 6.0, 1).otherwise(0))"
   ]
  },
  {
   "cell_type": "code",
   "execution_count": 19,
   "id": "85cab2c6",
   "metadata": {},
   "outputs": [
    {
     "data": {
      "application/vnd.jupyter.widget-view+json": {
       "model_id": "",
       "version_major": 2,
       "version_minor": 0
      },
      "text/plain": [
       "FloatProgress(value=0.0, bar_style='info', description='Progress:', layout=Layout(height='25px', width='50%'),…"
      ]
     },
     "metadata": {},
     "output_type": "display_data"
    },
    {
     "name": "stdout",
     "output_type": "stream",
     "text": [
      "+---+----+-------+\n",
      "| id|CGPA|BadCGPA|\n",
      "+---+----+-------+\n",
      "|  2|7.77|      0|\n",
      "|  8| 5.9|      1|\n",
      "| 26|7.03|      0|\n",
      "| 30|7.77|      0|\n",
      "| 32|8.13|      0|\n",
      "+---+----+-------+\n",
      "only showing top 5 rows"
     ]
    }
   ],
   "source": [
    "df_estudiantes.select(\"id\",\"CGPA\",\"BadCGPA\").show(5)"
   ]
  },
  {
   "cell_type": "markdown",
   "id": "a3e91f3e",
   "metadata": {},
   "source": [
    "## 5. Validación"
   ]
  },
  {
   "cell_type": "code",
   "execution_count": 20,
   "id": "d0a57ef9",
   "metadata": {},
   "outputs": [
    {
     "data": {
      "application/vnd.jupyter.widget-view+json": {
       "model_id": "",
       "version_major": 2,
       "version_minor": 0
      },
      "text/plain": [
       "FloatProgress(value=0.0, bar_style='info', description='Progress:', layout=Layout(height='25px', width='50%'),…"
      ]
     },
     "metadata": {},
     "output_type": "display_data"
    },
    {
     "name": "stdout",
     "output_type": "stream",
     "text": [
      "+-------------------------------------+-----+\n",
      "|columna                              |nulos|\n",
      "+-------------------------------------+-----+\n",
      "|id                                   |0    |\n",
      "|Gender                               |0    |\n",
      "|Age                                  |0    |\n",
      "|City                                 |0    |\n",
      "|Profession                           |0    |\n",
      "|Academic Pressure                    |0    |\n",
      "|Work Pressure                        |0    |\n",
      "|CGPA                                 |0    |\n",
      "|Study Satisfaction                   |0    |\n",
      "|Job Satisfaction                     |0    |\n",
      "|Sleep Duration                       |0    |\n",
      "|Dietary Habits                       |0    |\n",
      "|Degree                               |0    |\n",
      "|Have you ever had suicidal thoughts ?|0    |\n",
      "|Work/Study Hours                     |0    |\n",
      "|Financial Stress                     |0    |\n",
      "|Family History of Mental Illness     |0    |\n",
      "|Depression                           |0    |\n",
      "|HighRisk                             |0    |\n",
      "|GoodHabits                           |0    |\n",
      "+-------------------------------------+-----+\n",
      "only showing top 20 rows"
     ]
    }
   ],
   "source": [
    "#Crea un nuevo dataframe para comprobar que el dataframe original no tiene nulos\n",
    "# Lista para guardar los resultados\n",
    "nulos = []\n",
    "\n",
    "# Recorre cada columna y cuenta los nulos\n",
    "for colums_name in df_estudiantes.columns:\n",
    "    nulo_count = df_estudiantes.select(count(when(col(colums_name).isNull(), colums_name)).alias(\"nulos\")).collect()[0][\"nulos\"]\n",
    "    nulos.append((colums_name, nulo_count))\n",
    "\n",
    "# Creamos un nuevo DataFrame con los resultados\n",
    "df_denulos = spark.createDataFrame(nulos, [\"columna\", \"nulos\"])\n",
    "df_denulos.show(truncate=False)"
   ]
  },
  {
   "cell_type": "code",
   "execution_count": 21,
   "id": "4014fa04",
   "metadata": {},
   "outputs": [
    {
     "data": {
      "application/vnd.jupyter.widget-view+json": {
       "model_id": "",
       "version_major": 2,
       "version_minor": 0
      },
      "text/plain": [
       "FloatProgress(value=0.0, bar_style='info', description='Progress:', layout=Layout(height='25px', width='50%'),…"
      ]
     },
     "metadata": {},
     "output_type": "display_data"
    },
    {
     "name": "stdout",
     "output_type": "stream",
     "text": [
      "Valores ?nicos de las columnas id\n",
      "+-----+\n",
      "|   id|\n",
      "+-----+\n",
      "| 1591|\n",
      "| 4519|\n",
      "|11141|\n",
      "|11317|\n",
      "|12046|\n",
      "|16339|\n",
      "|16503|\n",
      "|24663|\n",
      "|25591|\n",
      "|26583|\n",
      "|26623|\n",
      "|32445|\n",
      "|36224|\n",
      "|43302|\n",
      "|43527|\n",
      "|45307|\n",
      "|57984|\n",
      "|72758|\n",
      "|78120|\n",
      "|81900|\n",
      "+-----+\n",
      "only showing top 20 rows\n",
      "\n",
      "Valores ?nicos de las columnas Gender\n",
      "+------+\n",
      "|Gender|\n",
      "+------+\n",
      "|  Male|\n",
      "|Female|\n",
      "+------+\n",
      "\n",
      "Valores ?nicos de las columnas Age\n",
      "+----+\n",
      "| Age|\n",
      "+----+\n",
      "|29.0|\n",
      "|46.0|\n",
      "|28.0|\n",
      "|26.0|\n",
      "|21.0|\n",
      "|48.0|\n",
      "|27.0|\n",
      "|20.0|\n",
      "|54.0|\n",
      "|43.0|\n",
      "|42.0|\n",
      "|44.0|\n",
      "|35.0|\n",
      "|37.0|\n",
      "|25.0|\n",
      "|41.0|\n",
      "|23.0|\n",
      "|56.0|\n",
      "|51.0|\n",
      "|19.0|\n",
      "+----+\n",
      "only showing top 20 rows\n",
      "\n",
      "Valores ?nicos de las columnas City\n",
      "+-------------+\n",
      "|         City|\n",
      "+-------------+\n",
      "|       bhavna|\n",
      "|       bhopal|\n",
      "|    ahmedabad|\n",
      "|       m.tech|\n",
      "|        rashi|\n",
      "|       saanvi|\n",
      "|        patna|\n",
      "|     srinagar|\n",
      "|       nalyan|\n",
      "|       kalyan|\n",
      "|       jaipur|\n",
      "|     ludhiana|\n",
      "|     vadodara|\n",
      "|        thane|\n",
      "|       nashik|\n",
      "|        delhi|\n",
      "|      lucknow|\n",
      "|visakhapatnam|\n",
      "|  vasai-virar|\n",
      "|        surat|\n",
      "+-------------+\n",
      "only showing top 20 rows\n",
      "\n",
      "Valores ?nicos de las columnas Profession\n",
      "+--------------------+\n",
      "|          Profession|\n",
      "+--------------------+\n",
      "|             Teacher|\n",
      "|              Lawyer|\n",
      "|                Chef|\n",
      "|           Architect|\n",
      "|    Digital Marketer|\n",
      "|          Pharmacist|\n",
      "|              Doctor|\n",
      "|Educational Consu...|\n",
      "|      Content Writer|\n",
      "|             Student|\n",
      "|      UX/UI Designer|\n",
      "|        Entrepreneur|\n",
      "|             Manager|\n",
      "|      Civil Engineer|\n",
      "+--------------------+\n",
      "\n",
      "Valores ?nicos de las columnas Academic Pressure\n",
      "+-----------------+\n",
      "|Academic Pressure|\n",
      "+-----------------+\n",
      "|              1.0|\n",
      "|              5.0|\n",
      "|              2.0|\n",
      "|              4.0|\n",
      "|              0.0|\n",
      "|              3.0|\n",
      "+-----------------+\n",
      "\n",
      "Valores ?nicos de las columnas Work Pressure\n",
      "+-------------+\n",
      "|Work Pressure|\n",
      "+-------------+\n",
      "|          5.0|\n",
      "|          2.0|\n",
      "|          0.0|\n",
      "+-------------+\n",
      "\n",
      "Valores ?nicos de las columnas CGPA\n",
      "+----+\n",
      "|CGPA|\n",
      "+----+\n",
      "|9.72|\n",
      "|8.92|\n",
      "|9.41|\n",
      "|8.75|\n",
      "|6.44|\n",
      "|7.42|\n",
      "|8.97|\n",
      "|8.54|\n",
      "|7.61|\n",
      "|8.71|\n",
      "|5.88|\n",
      "| 6.7|\n",
      "|6.09|\n",
      "|9.43|\n",
      "|6.69|\n",
      "|9.47|\n",
      "|9.87|\n",
      "|6.21|\n",
      "|5.38|\n",
      "|5.57|\n",
      "+----+\n",
      "only showing top 20 rows\n",
      "\n",
      "Valores ?nicos de las columnas Study Satisfaction\n",
      "+------------------+\n",
      "|Study Satisfaction|\n",
      "+------------------+\n",
      "|               1.0|\n",
      "|               5.0|\n",
      "|               2.0|\n",
      "|               4.0|\n",
      "|               0.0|\n",
      "|               3.0|\n",
      "+------------------+\n",
      "\n",
      "Valores ?nicos de las columnas Job Satisfaction\n",
      "+----------------+\n",
      "|Job Satisfaction|\n",
      "+----------------+\n",
      "|             1.0|\n",
      "|             2.0|\n",
      "|             4.0|\n",
      "|             0.0|\n",
      "|             3.0|\n",
      "+----------------+\n",
      "\n",
      "Valores ?nicos de las columnas Sleep Duration\n",
      "+-----------------+\n",
      "|   Sleep Duration|\n",
      "+-----------------+\n",
      "|           others|\n",
      "|less than 5 hours|\n",
      "|        5-6 hours|\n",
      "|        7-8 hours|\n",
      "|more than 8 hours|\n",
      "+-----------------+\n",
      "\n",
      "Valores ?nicos de las columnas Dietary Habits\n",
      "+--------------+\n",
      "|Dietary Habits|\n",
      "+--------------+\n",
      "|        Others|\n",
      "|       Healthy|\n",
      "|      Moderate|\n",
      "|     Unhealthy|\n",
      "+--------------+\n",
      "\n",
      "Valores ?nicos de las columnas Degree\n",
      "+--------+\n",
      "|  Degree|\n",
      "+--------+\n",
      "|     msc|\n",
      "|  others|\n",
      "|  m.tech|\n",
      "|      md|\n",
      "|    b.ed|\n",
      "|     phd|\n",
      "|      ba|\n",
      "|     mhm|\n",
      "|class 12|\n",
      "|     mba|\n",
      "| b.pharm|\n",
      "| m.pharm|\n",
      "|    m.ed|\n",
      "|     bhm|\n",
      "|     mca|\n",
      "|      me|\n",
      "|      ma|\n",
      "|     bsc|\n",
      "|     bca|\n",
      "|      be|\n",
      "+--------+\n",
      "only showing top 20 rows\n",
      "\n",
      "Valores ?nicos de las columnas Have you ever had suicidal thoughts ?\n",
      "+-------------------------------------+\n",
      "|Have you ever had suicidal thoughts ?|\n",
      "+-------------------------------------+\n",
      "|                                  Yes|\n",
      "|                                   No|\n",
      "+-------------------------------------+\n",
      "\n",
      "Valores ?nicos de las columnas Work/Study Hours\n",
      "+----------------+\n",
      "|Work/Study Hours|\n",
      "+----------------+\n",
      "|             1.0|\n",
      "|             6.0|\n",
      "|             5.0|\n",
      "|             2.0|\n",
      "|             4.0|\n",
      "|            10.0|\n",
      "|             8.0|\n",
      "|             0.0|\n",
      "|             7.0|\n",
      "|            11.0|\n",
      "|             3.0|\n",
      "|             9.0|\n",
      "|            12.0|\n",
      "+----------------+\n",
      "\n",
      "Valores ?nicos de las columnas Financial Stress\n",
      "+----------------+\n",
      "|Financial Stress|\n",
      "+----------------+\n",
      "|             1.0|\n",
      "|             5.0|\n",
      "|             2.0|\n",
      "|             4.0|\n",
      "|             3.0|\n",
      "+----------------+\n",
      "\n",
      "Valores ?nicos de las columnas Family History of Mental Illness\n",
      "+--------------------------------+\n",
      "|Family History of Mental Illness|\n",
      "+--------------------------------+\n",
      "|                             Yes|\n",
      "|                              No|\n",
      "+--------------------------------+\n",
      "\n",
      "Valores ?nicos de las columnas Depression\n",
      "+----------+\n",
      "|Depression|\n",
      "+----------+\n",
      "|         1|\n",
      "|         0|\n",
      "+----------+\n",
      "\n",
      "Valores ?nicos de las columnas HighRisk\n",
      "+--------+\n",
      "|HighRisk|\n",
      "+--------+\n",
      "|       1|\n",
      "|       0|\n",
      "+--------+\n",
      "\n",
      "Valores ?nicos de las columnas GoodHabits\n",
      "+----------+\n",
      "|GoodHabits|\n",
      "+----------+\n",
      "|         1|\n",
      "|         0|\n",
      "+----------+\n",
      "\n",
      "Valores ?nicos de las columnas HasFinancialStress\n",
      "+------------------+\n",
      "|HasFinancialStress|\n",
      "+------------------+\n",
      "|                 1|\n",
      "|                 0|\n",
      "+------------------+\n",
      "\n",
      "Valores ?nicos de las columnas HasAcademicPressure\n",
      "+-------------------+\n",
      "|HasAcademicPressure|\n",
      "+-------------------+\n",
      "|                  1|\n",
      "|                  0|\n",
      "+-------------------+\n",
      "\n",
      "Valores ?nicos de las columnas HasSatisfaction\n",
      "+---------------+\n",
      "|HasSatisfaction|\n",
      "+---------------+\n",
      "|              1|\n",
      "|              0|\n",
      "+---------------+\n",
      "\n",
      "Valores ?nicos de las columnas HasSuicidalThoughts\n",
      "+-------------------+\n",
      "|HasSuicidalThoughts|\n",
      "+-------------------+\n",
      "|                  1|\n",
      "|                  0|\n",
      "+-------------------+\n",
      "\n",
      "Valores ?nicos de las columnas HasFamilyHistory\n",
      "+----------------+\n",
      "|HasFamilyHistory|\n",
      "+----------------+\n",
      "|               1|\n",
      "|               0|\n",
      "+----------------+\n",
      "\n",
      "Valores ?nicos de las columnas IsYoung\n",
      "+-------+\n",
      "|IsYoung|\n",
      "+-------+\n",
      "|      1|\n",
      "|      0|\n",
      "+-------+\n",
      "\n",
      "Valores ?nicos de las columnas IsMale\n",
      "+------+\n",
      "|IsMale|\n",
      "+------+\n",
      "|     1|\n",
      "|     0|\n",
      "+------+\n",
      "\n",
      "Valores ?nicos de las columnas BadCGPA\n",
      "+-------+\n",
      "|BadCGPA|\n",
      "+-------+\n",
      "|      1|\n",
      "|      0|\n",
      "+-------+"
     ]
    }
   ],
   "source": [
    "# Compruebo los valores únicos de cada columna en el dataframe final\n",
    "for columns_name in df_estudiantes.columns:\n",
    "    print(f\"Valores únicos de las columnas {columns_name}\")\n",
    "    df_estudiantes.select(columns_name).distinct().show()"
   ]
  },
  {
   "cell_type": "markdown",
   "id": "0503a356",
   "metadata": {},
   "source": [
    "## 6. Persistencia"
   ]
  },
  {
   "cell_type": "code",
   "execution_count": 22,
   "id": "276b1284",
   "metadata": {},
   "outputs": [
    {
     "data": {
      "application/vnd.jupyter.widget-view+json": {
       "model_id": "",
       "version_major": 2,
       "version_minor": 0
      },
      "text/plain": [
       "FloatProgress(value=0.0, bar_style='info', description='Progress:', layout=Layout(height='25px', width='50%'),…"
      ]
     },
     "metadata": {},
     "output_type": "display_data"
    }
   ],
   "source": [
    "# Una vez realizado el proceso de limpieza y tranformaciones que he considerado oportunas\n",
    "# Guardo el dataset en s3 con formato parquet para ahorrar.\n",
    "df_estudiantes.write.mode(\"overwrite\").parquet(\"s3://jmgarcia-spark/datasets/outputs/estudiantesdepresion_limpio.parquet\")"
   ]
  },
  {
   "cell_type": "markdown",
   "id": "d79d6288",
   "metadata": {},
   "source": [
    "## 7.  Investigación MLlib"
   ]
  },
  {
   "cell_type": "markdown",
   "id": "5084e6ed",
   "metadata": {},
   "source": [
    "Un dataset limpio y bien transformado es el punto de partida ideal para entrenar un modelo de IA. "
   ]
  },
  {
   "cell_type": "markdown",
   "id": "663d057c",
   "metadata": {},
   "source": [
    "### Descripción de la biblioteca"
   ]
  },
  {
   "cell_type": "markdown",
   "id": "26f16c6f",
   "metadata": {},
   "source": [
    "MLlib es la biblioteca de aprendizaje automático (ML) de Spark. Su objetivo es que el aprendizaje automático práctico sea escalable y sencillo. A grandes rasgos, proporciona herramientas como:\n",
    "\n",
    "- Algoritmos de aprendizaje automático: algoritmos de aprendizaje comunes como clasificación, regresión, agrupamiento y filtrado colaborativo.\n",
    "- Caracterización: extracción de características, transformación, reducción de dimensionalidad y selección\n",
    "- Pipelines: herramientas para construir, evaluar y ajustar pipelines de ML\n",
    "- Persistencia: guardar y cargar algoritmos, modelos y pipelines\n",
    "- Utilidades: álgebra lineal, estadística, manejo de datos, etc."
   ]
  },
  {
   "cell_type": "code",
   "execution_count": 23,
   "id": "630b88df",
   "metadata": {},
   "outputs": [
    {
     "data": {
      "application/vnd.jupyter.widget-view+json": {
       "model_id": "",
       "version_major": 2,
       "version_minor": 0
      },
      "text/plain": [
       "FloatProgress(value=0.0, bar_style='info', description='Progress:', layout=Layout(height='25px', width='50%'),…"
      ]
     },
     "metadata": {},
     "output_type": "display_data"
    },
    {
     "name": "stdout",
     "output_type": "stream",
     "text": [
      "+---+------+----+-------------+----------+-----------------+-------------+----+------------------+----------------+-----------------+--------------+--------+-------------------------------------+----------------+----------------+--------------------------------+----------+--------+----------+------------------+-------------------+---------------+-------------------+----------------+-------+------+-------+\n",
      "|id |Gender|Age |City         |Profession|Academic Pressure|Work Pressure|CGPA|Study Satisfaction|Job Satisfaction|Sleep Duration   |Dietary Habits|Degree  |Have you ever had suicidal thoughts ?|Work/Study Hours|Financial Stress|Family History of Mental Illness|Depression|HighRisk|GoodHabits|HasFinancialStress|HasAcademicPressure|HasSatisfaction|HasSuicidalThoughts|HasFamilyHistory|IsYoung|IsMale|BadCGPA|\n",
      "+---+------+----+-------------+----------+-----------------+-------------+----+------------------+----------------+-----------------+--------------+--------+-------------------------------------+----------------+----------------+--------------------------------+----------+--------+----------+------------------+-------------------+---------------+-------------------+----------------+-------+------+-------+\n",
      "|2  |Male  |33.0|visakhapatnam|Student   |5.0              |0.0          |7.77|2.0               |0.0             |5-6 hours        |Healthy       |b.pharm |Yes                                  |3.0             |1.0             |No                              |1         |0       |0         |0                 |1                  |0              |1                  |0               |0      |1     |0      |\n",
      "|8  |Female|24.0|bangalore    |Student   |2.0              |0.0          |5.9 |5.0               |0.0             |5-6 hours        |Moderate      |bsc     |No                                   |3.0             |2.0             |Yes                             |0         |0       |0         |0                 |0                  |1              |0                  |1               |1      |0     |1      |\n",
      "|26 |Male  |31.0|srinagar     |Student   |3.0              |0.0          |7.03|5.0               |0.0             |less than 5 hours|Healthy       |ba      |No                                   |9.0             |1.0             |Yes                             |0         |0       |0         |0                 |1                  |1              |0                  |1               |0      |1     |0      |\n",
      "|30 |Female|28.0|varanasi     |Student   |3.0              |0.0          |7.77|2.0               |0.0             |7-8 hours        |Moderate      |bca     |Yes                                  |4.0             |5.0             |Yes                             |1         |0       |1         |1                 |1                  |0              |1                  |1               |0      |0     |0      |\n",
      "|32 |Female|25.0|jaipur       |Student   |4.0              |0.0          |8.13|3.0               |0.0             |5-6 hours        |Moderate      |m.tech  |Yes                                  |1.0             |1.0             |No                              |0         |0       |0         |0                 |1                  |1              |1                  |0               |1      |0     |0      |\n",
      "|33 |Male  |29.0|pune         |Student   |2.0              |0.0          |5.7 |3.0               |0.0             |less than 5 hours|Healthy       |phd     |No                                   |4.0             |1.0             |No                              |0         |0       |0         |0                 |0                  |1              |0                  |0               |0      |1     |1      |\n",
      "|52 |Male  |30.0|thane        |Student   |3.0              |0.0          |9.54|4.0               |0.0             |7-8 hours        |Healthy       |bsc     |No                                   |1.0             |2.0             |No                              |0         |0       |0         |0                 |1                  |1              |0                  |0               |0      |1     |0      |\n",
      "|56 |Female|30.0|chennai      |Student   |2.0              |0.0          |8.04|4.0               |0.0             |less than 5 hours|Unhealthy     |class 12|No                                   |0.0             |1.0             |Yes                             |0         |0       |0         |0                 |0                  |1              |0                  |1               |0      |0     |0      |\n",
      "|59 |Male  |28.0|nagpur       |Student   |3.0              |0.0          |9.79|1.0               |0.0             |7-8 hours        |Moderate      |b.ed    |Yes                                  |12.0            |3.0             |No                              |1         |0       |0         |1                 |1                  |0              |1                  |0               |0      |1     |0      |\n",
      "|62 |Male  |31.0|nashik       |Student   |2.0              |0.0          |8.38|3.0               |0.0             |less than 5 hours|Moderate      |llb     |Yes                                  |2.0             |5.0             |No                              |1         |0       |0         |1                 |0                  |1              |1                  |0               |0      |1     |0      |\n",
      "+---+------+----+-------------+----------+-----------------+-------------+----+------------------+----------------+-----------------+--------------+--------+-------------------------------------+----------------+----------------+--------------------------------+----------+--------+----------+------------------+-------------------+---------------+-------------------+----------------+-------+------+-------+\n",
      "only showing top 10 rows"
     ]
    }
   ],
   "source": [
    "# Dataset para entrenar el modelo\n",
    "df_estudiantes.show(truncate=False,n=10)"
   ]
  },
  {
   "cell_type": "markdown",
   "id": "22012c1f",
   "metadata": {},
   "source": [
    "### Objetivo del entrenamiento"
   ]
  },
  {
   "cell_type": "markdown",
   "id": "a022605e",
   "metadata": {},
   "source": [
    "El objetivo de este entrenamiento es predecir si un estudiante sufre depresion o no."
   ]
  },
  {
   "cell_type": "code",
   "execution_count": 28,
   "id": "58485c09",
   "metadata": {},
   "outputs": [
    {
     "data": {
      "application/vnd.jupyter.widget-view+json": {
       "model_id": "",
       "version_major": 2,
       "version_minor": 0
      },
      "text/plain": [
       "FloatProgress(value=0.0, bar_style='info', description='Progress:', layout=Layout(height='25px', width='50%'),…"
      ]
     },
     "metadata": {},
     "output_type": "display_data"
    }
   ],
   "source": [
    "from pyspark.ml.feature import VectorAssembler\n",
    "from pyspark.ml.classification import LogisticRegression\n",
    "from pyspark.ml.evaluation import MulticlassClassificationEvaluator"
   ]
  },
  {
   "cell_type": "code",
   "execution_count": 29,
   "id": "fa34ad41",
   "metadata": {},
   "outputs": [
    {
     "data": {
      "application/vnd.jupyter.widget-view+json": {
       "model_id": "",
       "version_major": 2,
       "version_minor": 0
      },
      "text/plain": [
       "FloatProgress(value=0.0, bar_style='info', description='Progress:', layout=Layout(height='25px', width='50%'),…"
      ]
     },
     "metadata": {},
     "output_type": "display_data"
    }
   ],
   "source": [
    "# Selección de características para el modelo\n",
    "assembler = VectorAssembler(\n",
    "    inputCols=[\"HasFinancialStress\", \"HasAcademicPressure\", \"HasSatisfaction\",\n",
    "               \"HasSuicidalThoughts\", \"HasFamilyHistory\", \"IsYoung\", \"IsMale\", \"BadCGPA\",\"GoodHabits\"],\n",
    "    outputCol=\"data\")\n",
    "df = assembler.transform(df_estudiantes)\n"
   ]
  },
  {
   "cell_type": "code",
   "execution_count": 30,
   "id": "9646dd50",
   "metadata": {},
   "outputs": [
    {
     "data": {
      "application/vnd.jupyter.widget-view+json": {
       "model_id": "",
       "version_major": 2,
       "version_minor": 0
      },
      "text/plain": [
       "FloatProgress(value=0.0, bar_style='info', description='Progress:', layout=Layout(height='25px', width='50%'),…"
      ]
     },
     "metadata": {},
     "output_type": "display_data"
    }
   ],
   "source": [
    "# Dividir en conjunto de entrenamiento y prueba\n",
    "train_data, test_data = df.randomSplit([0.8, 0.2], seed=42)"
   ]
  },
  {
   "cell_type": "code",
   "execution_count": 32,
   "id": "ca126131",
   "metadata": {},
   "outputs": [
    {
     "data": {
      "application/vnd.jupyter.widget-view+json": {
       "model_id": "",
       "version_major": 2,
       "version_minor": 0
      },
      "text/plain": [
       "FloatProgress(value=0.0, bar_style='info', description='Progress:', layout=Layout(height='25px', width='50%'),…"
      ]
     },
     "metadata": {},
     "output_type": "display_data"
    }
   ],
   "source": [
    "# Definir y entrenar el modelo\n",
    "lr = LogisticRegression(featuresCol='data', labelCol='Depression')\n",
    "model = lr.fit(train_data)"
   ]
  },
  {
   "cell_type": "code",
   "execution_count": 33,
   "id": "fc709531",
   "metadata": {},
   "outputs": [
    {
     "data": {
      "application/vnd.jupyter.widget-view+json": {
       "model_id": "",
       "version_major": 2,
       "version_minor": 0
      },
      "text/plain": [
       "FloatProgress(value=0.0, bar_style='info', description='Progress:', layout=Layout(height='25px', width='50%'),…"
      ]
     },
     "metadata": {},
     "output_type": "display_data"
    }
   ],
   "source": [
    "# Realizar predicciones\n",
    "predictions = model.transform(test_data)"
   ]
  },
  {
   "cell_type": "code",
   "execution_count": 34,
   "id": "29991d8c",
   "metadata": {},
   "outputs": [
    {
     "data": {
      "application/vnd.jupyter.widget-view+json": {
       "model_id": "",
       "version_major": 2,
       "version_minor": 0
      },
      "text/plain": [
       "FloatProgress(value=0.0, bar_style='info', description='Progress:', layout=Layout(height='25px', width='50%'),…"
      ]
     },
     "metadata": {},
     "output_type": "display_data"
    },
    {
     "name": "stdout",
     "output_type": "stream",
     "text": [
      "Precisi?n del modelo: 0.8164"
     ]
    }
   ],
   "source": [
    "# Evaluar el modelo\n",
    "evaluator = MulticlassClassificationEvaluator(\n",
    "    labelCol=\"Depression\", predictionCol=\"prediction\", metricName=\"accuracy\")\n",
    "accuracy = evaluator.evaluate(predictions)\n",
    "\n",
    "print(f\"Precisión del modelo: {accuracy:.4f}\")"
   ]
  },
  {
   "cell_type": "code",
   "execution_count": 36,
   "id": "0fbff789",
   "metadata": {},
   "outputs": [
    {
     "data": {
      "application/vnd.jupyter.widget-view+json": {
       "model_id": "",
       "version_major": 2,
       "version_minor": 0
      },
      "text/plain": [
       "FloatProgress(value=0.0, bar_style='info', description='Progress:', layout=Layout(height='25px', width='50%'),…"
      ]
     },
     "metadata": {},
     "output_type": "display_data"
    }
   ],
   "source": [
    "spark.stop()"
   ]
  },
  {
   "cell_type": "code",
   "execution_count": null,
   "id": "7467a9d9",
   "metadata": {},
   "outputs": [],
   "source": []
  }
 ],
 "metadata": {
  "kernelspec": {
   "display_name": "PySpark",
   "language": "python",
   "name": "pysparkkernel"
  },
  "language_info": {
   "codemirror_mode": {
    "name": "python",
    "version": 3
   },
   "file_extension": ".py",
   "mimetype": "text/x-python",
   "name": "pyspark",
   "pygments_lexer": "python3"
  }
 },
 "nbformat": 4,
 "nbformat_minor": 5
}
